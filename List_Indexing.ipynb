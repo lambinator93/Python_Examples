{
 "cells": [
  {
   "cell_type": "code",
   "execution_count": 16,
   "metadata": {},
   "outputs": [
    {
     "data": {
      "text/plain": [
       "array([593, 551, 541, ..., 301, 324, 292], dtype=uint32)"
      ]
     },
     "execution_count": 16,
     "metadata": {},
     "output_type": "execute_result"
    }
   ],
   "source": [
    "import h5py\n",
    "import numpy as np\n",
    "import math\n",
    "\n",
    "filename1 = 'scan_0227';\n",
    "f1 = h5py.File(filename1+'.nxs', 'r'); #must declare object here to use throughout\n",
    "en1 = list(f1['/'+filename1+'/scan_data/data_15/']);\n",
    "det1 = list(f1['/'+filename1+'/scan_data/data_17/']);\n",
    "\n",
    "len(det1[50])\n",
    "\n",
    "det1[50][:,len(det1[50])-1]"
   ]
  },
  {
   "cell_type": "code",
   "execution_count": null,
   "metadata": {},
   "outputs": [],
   "source": []
  }
 ],
 "metadata": {
  "kernelspec": {
   "display_name": "Python 3",
   "language": "python",
   "name": "python3"
  },
  "language_info": {
   "codemirror_mode": {
    "name": "ipython",
    "version": 3
   },
   "file_extension": ".py",
   "mimetype": "text/x-python",
   "name": "python",
   "nbconvert_exporter": "python",
   "pygments_lexer": "ipython3",
   "version": "3.7.4"
  }
 },
 "nbformat": 4,
 "nbformat_minor": 2
}
